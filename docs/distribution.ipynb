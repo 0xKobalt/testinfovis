{
 "cells": [
  {
   "cell_type": "markdown",
   "id": "ad24a278",
   "metadata": {},
   "source": [
    "work distribuyneottrt"
   ]
  }
 ],
 "metadata": {
  "language_info": {
   "name": "python"
  }
 },
 "nbformat": 4,
 "nbformat_minor": 5
}
