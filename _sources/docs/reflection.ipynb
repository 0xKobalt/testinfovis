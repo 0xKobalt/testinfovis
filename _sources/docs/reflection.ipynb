{
 "cells": [
  {
   "cell_type": "markdown",
   "id": "33b2ee12",
   "metadata": {},
   "source": [
    "refelctie"
   ]
  }
 ],
 "metadata": {
  "language_info": {
   "name": "python"
  }
 },
 "nbformat": 4,
 "nbformat_minor": 5
}
