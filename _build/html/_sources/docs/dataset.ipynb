{
 "cells": [
  {
   "cell_type": "markdown",
   "id": "f3c30949",
   "metadata": {},
   "source": [
    "hier komt alle uitleg over de datasets"
   ]
  }
 ],
 "metadata": {
  "language_info": {
   "name": "python"
  }
 },
 "nbformat": 4,
 "nbformat_minor": 5
}
