{
 "cells": [
  {
   "cell_type": "markdown",
   "id": "ad24a278",
   "metadata": {},
   "source": [
    "# work distribuyneottrt"
   ]
  },
  {
   "cell_type": "markdown",
   "id": "4e912bc2",
   "metadata": {},
   "source": [
    "hello ooeodjsdlmdf"
   ]
  }
 ],
 "metadata": {
  "language_info": {
   "name": "python"
  }
 },
 "nbformat": 4,
 "nbformat_minor": 5
}
