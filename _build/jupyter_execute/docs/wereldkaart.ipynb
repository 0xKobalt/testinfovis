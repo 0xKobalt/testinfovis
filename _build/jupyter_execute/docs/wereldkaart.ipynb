{
 "cells": [
  {
   "cell_type": "code",
   "execution_count": 1,
   "id": "f37f9b0a",
   "metadata": {},
   "outputs": [
    {
     "data": {
      "text/html": [
       "\n",
       "<style>\n",
       ".vbox {\n",
       "    background-color: #f9f9f9;\n",
       "    padding: 20px;\n",
       "    border-radius: 12px;\n",
       "    box-shadow: 0 0 10px rgba(0,0,0,0.1);\n",
       "    width: fit-content;\n",
       "    margin-bottom: 25px;\n",
       "}\n",
       "\n",
       "/* Dropdown styling */\n",
       ".widget-dropdown select {\n",
       "    background-color: white;\n",
       "    border: 1px solid #ccc;\n",
       "    border-radius: 8px;\n",
       "    padding: 6px 12px;\n",
       "    font-size: 14px;\n",
       "}\n",
       "\n",
       "/* Slider track */\n",
       ".widget-selection-slider .slider {\n",
       "    background-color: #ddd;\n",
       "    height: 8px;\n",
       "    border-radius: 4px;\n",
       "}\n",
       "\n",
       "/* Slider handle */\n",
       ".widget-selection-slider .slider .slider-handle {\n",
       "    background-color: #e74c3c;\n",
       "    border-radius: 50%;\n",
       "    width: 16px;\n",
       "    height: 16px;\n",
       "    margin-top: -4px;\n",
       "}\n",
       "\n",
       "/* Beschrijving labels */\n",
       ".widget-label {\n",
       "    font-weight: bold;\n",
       "    font-size: 14px;\n",
       "}\n",
       "\n",
       "/* Responsive tweaks */\n",
       "@media screen and (max-width: 768px) {\n",
       "    .hbox {\n",
       "        flex-direction: column !important;\n",
       "        gap: 10px !important;\n",
       "    }\n",
       "}\n",
       "</style>\n"
      ],
      "text/plain": [
       "<IPython.core.display.HTML object>"
      ]
     },
     "metadata": {},
     "output_type": "display_data"
    },
    {
     "data": {
      "application/vnd.jupyter.widget-view+json": {
       "model_id": "73dfd6cb07094326a876fd25369d5ebc",
       "version_major": 2,
       "version_minor": 0
      },
      "text/plain": [
       "VBox(children=(HBox(children=(Dropdown(description='Sex', layout=Layout(width='200px'), options=('Both', 'Fema…"
      ]
     },
     "metadata": {},
     "output_type": "display_data"
    },
    {
     "data": {
      "application/vnd.jupyter.widget-view+json": {
       "model_id": "06fb58ddd57b4cb9a989221770d143ce",
       "version_major": 2,
       "version_minor": 0
      },
      "text/plain": [
       "Output()"
      ]
     },
     "metadata": {},
     "output_type": "display_data"
    }
   ],
   "source": [
    "import pandas as pd\n",
    "import plotly.express as px\n",
    "from ipywidgets import Dropdown, SelectionSlider, Layout, HBox, VBox, interactive_output\n",
    "from IPython.display import display, HTML\n",
    "import pycountry\n",
    "\n",
    "# === Data inladen ===\n",
    "csv_path = \"datasets/IHME_mental_real.csv\"\n",
    "df2 = pd.read_csv(csv_path)\n",
    "\n",
    "# === Landen omzetten naar ISO3-codes ===\n",
    "def get_iso3(name):\n",
    "    try:\n",
    "        return pycountry.countries.lookup(name).alpha_3\n",
    "    except LookupError:\n",
    "        return None\n",
    "\n",
    "df2[\"Country\"] = df2[\"location\"].apply(get_iso3)\n",
    "\n",
    "# === Waarden in juiste schaal zetten ===\n",
    "df2[\"val_display\"] = df2[\"val\"]\n",
    "df2.loc[df2[\"metric\"] == \"Percent\", \"val_display\"] *= 100\n",
    "\n",
    "# === Vaste schaal voor percentages ===\n",
    "percent_max = df2.loc[df2[\"metric\"] == \"Percent\", \"val_display\"].max()\n",
    "\n",
    "# === Widget opties ===\n",
    "years = sorted(df2[\"year\"].unique())\n",
    "sexes = sorted(df2[\"sex\"].unique())\n",
    "metrics = sorted(df2[\"metric\"].unique())\n",
    "\n",
    "# === Plotfunctie ===\n",
    "def plot_map(year, sex, metric):\n",
    "    dff = df2[(df2[\"year\"] == year) & (df2[\"sex\"] == sex) & (df2[\"metric\"] == metric)]\n",
    "    if dff.empty:\n",
    "        print(\"Geen data beschikbaar voor deze selectie.\")\n",
    "        return\n",
    "    \n",
    "    if metric == \"Percent\":\n",
    "        color_range = [0, percent_max]\n",
    "    else:\n",
    "        color_range = [df2[\"val_display\"].min(), df2[\"val_display\"].max()]\n",
    "    \n",
    "    fig = px.choropleth(\n",
    "        dff,\n",
    "        locations=\"Country\",\n",
    "        color=\"val_display\",\n",
    "        hover_name=\"location\",\n",
    "        color_continuous_scale=\"Reds\",\n",
    "        range_color=color_range,\n",
    "        labels={\"val_display\": f\"Prevalentie ({metric})\"},\n",
    "        title=f\"Mental Disorders – {sex} – {metric} – {year}\",\n",
    "        width=1100,\n",
    "        height=650\n",
    "    )\n",
    "    fig.update_layout(\n",
    "        geo=dict(\n",
    "            showframe=False,\n",
    "            showcoastlines=True,\n",
    "            projection_type=\"natural earth\"\n",
    "        ),\n",
    "        margin=dict(l=0, r=0, t=50, b=0)\n",
    "    )\n",
    "    fig.show()\n",
    "\n",
    "# === Widgets ===\n",
    "year_slider = SelectionSlider(\n",
    "    options=years,\n",
    "    description=\"Jaar\",\n",
    "    continuous_update=False,\n",
    "    layout=Layout(width=\"100%\")\n",
    ")\n",
    "\n",
    "sex_dropdown = Dropdown(\n",
    "    options=sexes,\n",
    "    description=\"Sex\",\n",
    "    layout=Layout(width=\"200px\")\n",
    ")\n",
    "\n",
    "metric_dropdown = Dropdown(\n",
    "    options=metrics,\n",
    "    description=\"Metric\",\n",
    "    layout=Layout(width=\"200px\")\n",
    ")\n",
    "\n",
    "controls_top = HBox([sex_dropdown, metric_dropdown], layout=Layout(gap=\"20px\"))\n",
    "controls = VBox([controls_top, year_slider], layout=Layout(gap=\"15px\", width=\"1000px\"), _dom_classes=[\"vbox\"])\n",
    "\n",
    "interactive_plot = interactive_output(plot_map, {\n",
    "    \"year\": year_slider,\n",
    "    \"sex\": sex_dropdown,\n",
    "    \"metric\": metric_dropdown\n",
    "})\n",
    "\n",
    "# === Styling met CSS ===\n",
    "custom_css = \"\"\"\n",
    "<style>\n",
    ".vbox {\n",
    "    background-color: #f9f9f9;\n",
    "    padding: 20px;\n",
    "    border-radius: 12px;\n",
    "    box-shadow: 0 0 10px rgba(0,0,0,0.1);\n",
    "    width: fit-content;\n",
    "    margin-bottom: 25px;\n",
    "}\n",
    "\n",
    "/* Dropdown styling */\n",
    ".widget-dropdown select {\n",
    "    background-color: white;\n",
    "    border: 1px solid #ccc;\n",
    "    border-radius: 8px;\n",
    "    padding: 6px 12px;\n",
    "    font-size: 14px;\n",
    "}\n",
    "\n",
    "/* Slider track */\n",
    ".widget-selection-slider .slider {\n",
    "    background-color: #ddd;\n",
    "    height: 8px;\n",
    "    border-radius: 4px;\n",
    "}\n",
    "\n",
    "/* Slider handle */\n",
    ".widget-selection-slider .slider .slider-handle {\n",
    "    background-color: #e74c3c;\n",
    "    border-radius: 50%;\n",
    "    width: 16px;\n",
    "    height: 16px;\n",
    "    margin-top: -4px;\n",
    "}\n",
    "\n",
    "/* Beschrijving labels */\n",
    ".widget-label {\n",
    "    font-weight: bold;\n",
    "    font-size: 14px;\n",
    "}\n",
    "\n",
    "/* Responsive tweaks */\n",
    "@media screen and (max-width: 768px) {\n",
    "    .hbox {\n",
    "        flex-direction: column !important;\n",
    "        gap: 10px !important;\n",
    "    }\n",
    "}\n",
    "</style>\n",
    "\"\"\"\n",
    "\n",
    "# === Weergeven ===\n",
    "display(HTML(custom_css))\n",
    "display(controls, interactive_plot)\n"
   ]
  },
  {
   "cell_type": "code",
   "execution_count": null,
   "id": "83e68544",
   "metadata": {},
   "outputs": [],
   "source": []
  }
 ],
 "metadata": {
  "kernelspec": {
   "display_name": "jupyterbook",
   "language": "python",
   "name": "python3"
  },
  "language_info": {
   "codemirror_mode": {
    "name": "ipython",
    "version": 3
   },
   "file_extension": ".py",
   "mimetype": "text/x-python",
   "name": "python",
   "nbconvert_exporter": "python",
   "pygments_lexer": "ipython3",
   "version": "3.10.18"
  },
  "widgets": {
   "application/vnd.jupyter.widget-state+json": {
    "state": {
     "01407f195fcb4ca0b1165e45b74b03b7": {
      "model_module": "@jupyter-widgets/base",
      "model_module_version": "2.0.0",
      "model_name": "LayoutModel",
      "state": {
       "_model_module": "@jupyter-widgets/base",
       "_model_module_version": "2.0.0",
       "_model_name": "LayoutModel",
       "_view_count": null,
       "_view_module": "@jupyter-widgets/base",
       "_view_module_version": "2.0.0",
       "_view_name": "LayoutView",
       "align_content": null,
       "align_items": null,
       "align_self": null,
       "border_bottom": null,
       "border_left": null,
       "border_right": null,
       "border_top": null,
       "bottom": null,
       "display": null,
       "flex": null,
       "flex_flow": null,
       "grid_area": null,
       "grid_auto_columns": null,
       "grid_auto_flow": null,
       "grid_auto_rows": null,
       "grid_column": null,
       "grid_gap": null,
       "grid_row": null,
       "grid_template_areas": null,
       "grid_template_columns": null,
       "grid_template_rows": null,
       "height": null,
       "justify_content": null,
       "justify_items": null,
       "left": null,
       "margin": null,
       "max_height": null,
       "max_width": null,
       "min_height": null,
       "min_width": null,
       "object_fit": null,
       "object_position": null,
       "order": null,
       "overflow": null,
       "padding": null,
       "right": null,
       "top": null,
       "visibility": null,
       "width": "200px"
      }
     },
     "06fb58ddd57b4cb9a989221770d143ce": {
      "model_module": "@jupyter-widgets/output",
      "model_module_version": "1.0.0",
      "model_name": "OutputModel",
      "state": {
       "_dom_classes": [],
       "_model_module": "@jupyter-widgets/output",
       "_model_module_version": "1.0.0",
       "_model_name": "OutputModel",
       "_view_count": null,
       "_view_module": "@jupyter-widgets/output",
       "_view_module_version": "1.0.0",
       "_view_name": "OutputView",
       "layout": "IPY_MODEL_4f51d0752fa04fa58c663635292b07f1",
       "msg_id": "",
       "outputs": [
        {
         "data": {
          "application/vnd.plotly.v1+json": {
           "config": {
            "plotlyServerURL": "https://plot.ly"
           },
           "data": [
            {
             "coloraxis": "coloraxis",
             "geo": "geo",
             "hovertemplate": "<b>%{hovertext}</b><br><br>Country=%{location}<br>Prevalentie (Percent)=%{z}<extra></extra>",
             "hovertext": [
              "Thailand",
              "Sri Lanka",
              "Vanuatu",
              "Tonga",
              "Myanmar",
              "Philippines",
              "Solomon Islands",
              "Turkmenistan",
              "Malaysia",
              "Maldives",
              "Papua New Guinea",
              "Tajikistan",
              "Samoa",
              "Lao People's Democratic Republic",
              "Kyrgyzstan",
              "Indonesia",
              "Micronesia (Federated States of)",
              "Georgia",
              "Cambodia",
              "Kiribati",
              "Mongolia",
              "Fiji",
              "Marshall Islands",
              "Kazakhstan",
              "Democratic People's Republic of Korea",
              "Azerbaijan",
              "Viet Nam",
              "Taiwan (Province of China)",
              "Armenia",
              "Bosnia and Herzegovina",
              "Albania",
              "China",
              "Belarus",
              "Uzbekistan",
              "Timor-Leste",
              "Singapore",
              "Slovenia",
              "Slovakia",
              "Serbia",
              "Japan",
              "Republic of Korea",
              "Romania",
              "Poland",
              "Brunei Darussalam",
              "Montenegro",
              "Denmark",
              "North Macedonia",
              "Ukraine",
              "Cyprus",
              "Russian Federation",
              "Belgium",
              "Finland",
              "Lithuania",
              "Austria",
              "Andorra",
              "Hungary",
              "Republic of Moldova",
              "Latvia",
              "Bulgaria",
              "Croatia",
              "New Zealand",
              "Czechia",
              "Greece",
              "Estonia",
              "France",
              "Germany",
              "United Kingdom",
              "Australia",
              "Switzerland",
              "Sweden",
              "Belize",
              "Barbados",
              "Spain",
              "Antigua and Barbuda",
              "Bahamas",
              "Norway",
              "Portugal",
              "Netherlands",
              "United States of America",
              "Canada",
              "Luxembourg",
              "Saint Lucia",
              "Malta",
              "Ireland",
              "Jamaica",
              "Haiti",
              "Uruguay",
              "Italy",
              "Saint Vincent and the Grenadines",
              "Israel",
              "Iceland",
              "Suriname",
              "Bolivia (Plurinational State of)",
              "Chile",
              "Argentina",
              "Trinidad and Tobago",
              "Guyana",
              "Dominican Republic",
              "Grenada",
              "Dominica",
              "Cuba",
              "Venezuela (Bolivarian Republic of)",
              "Nicaragua",
              "Panama",
              "Mexico",
              "Kuwait",
              "Lebanon",
              "Jordan",
              "Honduras",
              "Iraq",
              "El Salvador",
              "Iran (Islamic Republic of)",
              "Guatemala",
              "Bahrain",
              "Egypt",
              "Costa Rica",
              "Colombia",
              "Ecuador",
              "Peru",
              "Türkiye",
              "Tunisia",
              "Paraguay",
              "Syrian Arab Republic",
              "Saudi Arabia",
              "Algeria",
              "Qatar",
              "Oman",
              "Yemen",
              "Brazil",
              "United Arab Emirates",
              "Palestine",
              "Democratic Republic of the Congo",
              "Equatorial Guinea",
              "Congo",
              "Libya",
              "Rwanda",
              "Morocco",
              "Mozambique",
              "Angola",
              "Central African Republic",
              "Mauritius",
              "Madagascar",
              "Malawi",
              "Kenya",
              "Pakistan",
              "Nepal",
              "Bhutan",
              "Eritrea",
              "Ethiopia",
              "Lesotho",
              "Bangladesh",
              "India",
              "Djibouti",
              "Gabon",
              "Afghanistan",
              "Zimbabwe",
              "Eswatini",
              "Botswana",
              "United Republic of Tanzania",
              "Namibia",
              "Comoros",
              "Zambia",
              "Burundi",
              "South Africa",
              "Mali",
              "Somalia",
              "Uganda",
              "Guinea-Bissau",
              "Liberia",
              "Guinea",
              "Seychelles",
              "Ghana",
              "Côte d'Ivoire",
              "Gambia",
              "Monaco",
              "Nauru",
              "Chad",
              "Cameroon",
              "Cabo Verde",
              "Togo",
              "Guam",
              "Senegal",
              "Cook Islands",
              "Greenland",
              "Burkina Faso",
              "Nigeria",
              "Sao Tome and Principe",
              "American Samoa",
              "Sierra Leone",
              "Benin",
              "Niger",
              "Bermuda",
              "South Sudan",
              "United States Virgin Islands",
              "Mauritania",
              "Tuvalu",
              "Niue",
              "Northern Mariana Islands",
              "Tokelau",
              "San Marino",
              "Saint Kitts and Nevis",
              "Palau",
              "Puerto Rico",
              "Sudan"
             ],
             "locations": [
              "THA",
              "LKA",
              "VUT",
              "TON",
              "MMR",
              "PHL",
              "SLB",
              "TKM",
              "MYS",
              "MDV",
              "PNG",
              "TJK",
              "WSM",
              "LAO",
              "KGZ",
              "IDN",
              null,
              "GEO",
              "KHM",
              "KIR",
              "MNG",
              "FJI",
              "MHL",
              "KAZ",
              "PRK",
              "AZE",
              "VNM",
              null,
              "ARM",
              "BIH",
              "ALB",
              "CHN",
              "BLR",
              "UZB",
              "TLS",
              "SGP",
              "SVN",
              "SVK",
              "SRB",
              "JPN",
              null,
              "ROU",
              "POL",
              "BRN",
              "MNE",
              "DNK",
              "MKD",
              "UKR",
              "CYP",
              "RUS",
              "BEL",
              "FIN",
              "LTU",
              "AUT",
              "AND",
              "HUN",
              "MDA",
              "LVA",
              "BGR",
              "HRV",
              "NZL",
              "CZE",
              "GRC",
              "EST",
              "FRA",
              "DEU",
              "GBR",
              "AUS",
              "CHE",
              "SWE",
              "BLZ",
              "BRB",
              "ESP",
              "ATG",
              "BHS",
              "NOR",
              "PRT",
              "NLD",
              "USA",
              "CAN",
              "LUX",
              "LCA",
              "MLT",
              "IRL",
              "JAM",
              "HTI",
              "URY",
              "ITA",
              "VCT",
              "ISR",
              "ISL",
              "SUR",
              null,
              "CHL",
              "ARG",
              "TTO",
              "GUY",
              "DOM",
              "GRD",
              "DMA",
              "CUB",
              null,
              "NIC",
              "PAN",
              "MEX",
              "KWT",
              "LBN",
              "JOR",
              "HND",
              "IRQ",
              "SLV",
              null,
              "GTM",
              "BHR",
              "EGY",
              "CRI",
              "COL",
              "ECU",
              "PER",
              "TUR",
              "TUN",
              "PRY",
              "SYR",
              "SAU",
              "DZA",
              "QAT",
              "OMN",
              "YEM",
              "BRA",
              "ARE",
              null,
              null,
              "GNQ",
              "COG",
              "LBY",
              "RWA",
              "MAR",
              "MOZ",
              "AGO",
              "CAF",
              "MUS",
              "MDG",
              "MWI",
              "KEN",
              "PAK",
              "NPL",
              "BTN",
              "ERI",
              "ETH",
              "LSO",
              "BGD",
              "IND",
              "DJI",
              "GAB",
              "AFG",
              "ZWE",
              "SWZ",
              "BWA",
              "TZA",
              "NAM",
              "COM",
              "ZMB",
              "BDI",
              "ZAF",
              "MLI",
              "SOM",
              "UGA",
              "GNB",
              "LBR",
              "GIN",
              "SYC",
              "GHA",
              "CIV",
              "GMB",
              "MCO",
              "NRU",
              "TCD",
              "CMR",
              "CPV",
              "TGO",
              "GUM",
              "SEN",
              "COK",
              "GRL",
              "BFA",
              "NGA",
              "STP",
              "ASM",
              "SLE",
              "BEN",
              "NER",
              "BMU",
              "SSD",
              null,
              "MRT",
              "TUV",
              "NIU",
              "MNP",
              "TKL",
              "SMR",
              "KNA",
              "PLW",
              "PRI",
              "SDN"
             ],
             "name": "",
             "type": "choropleth",
             "z": {
              "bdata": "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",
              "dtype": "f8"
             }
            }
           ],
           "layout": {
            "coloraxis": {
             "cmax": 24.83504357381857,
             "cmin": 0,
             "colorbar": {
              "title": {
               "text": "Prevalentie (Percent)"
              }
             },
             "colorscale": [
              [
               0.0,
               "rgb(255,245,240)"
              ],
              [
               0.125,
               "rgb(254,224,210)"
              ],
              [
               0.25,
               "rgb(252,187,161)"
              ],
              [
               0.375,
               "rgb(252,146,114)"
              ],
              [
               0.5,
               "rgb(251,106,74)"
              ],
              [
               0.625,
               "rgb(239,59,44)"
              ],
              [
               0.75,
               "rgb(203,24,29)"
              ],
              [
               0.875,
               "rgb(165,15,21)"
              ],
              [
               1.0,
               "rgb(103,0,13)"
              ]
             ]
            },
            "geo": {
             "center": {},
             "domain": {
              "x": [
               0.0,
               1.0
              ],
              "y": [
               0.0,
               1.0
              ]
             },
             "projection": {
              "type": "natural earth"
             },
             "showcoastlines": true,
             "showframe": false
            },
            "height": 650,
            "legend": {
             "tracegroupgap": 0
            },
            "margin": {
             "b": 0,
             "l": 0,
             "r": 0,
             "t": 50
            },
            "template": {
             "data": {
              "bar": [
               {
                "error_x": {
                 "color": "#2a3f5f"
                },
                "error_y": {
                 "color": "#2a3f5f"
                },
                "marker": {
                 "line": {
                  "color": "#E5ECF6",
                  "width": 0.5
                 },
                 "pattern": {
                  "fillmode": "overlay",
                  "size": 10,
                  "solidity": 0.2
                 }
                },
                "type": "bar"
               }
              ],
              "barpolar": [
               {
                "marker": {
                 "line": {
                  "color": "#E5ECF6",
                  "width": 0.5
                 },
                 "pattern": {
                  "fillmode": "overlay",
                  "size": 10,
                  "solidity": 0.2
                 }
                },
                "type": "barpolar"
               }
              ],
              "carpet": [
               {
                "aaxis": {
                 "endlinecolor": "#2a3f5f",
                 "gridcolor": "white",
                 "linecolor": "white",
                 "minorgridcolor": "white",
                 "startlinecolor": "#2a3f5f"
                },
                "baxis": {
                 "endlinecolor": "#2a3f5f",
                 "gridcolor": "white",
                 "linecolor": "white",
                 "minorgridcolor": "white",
                 "startlinecolor": "#2a3f5f"
                },
                "type": "carpet"
               }
              ],
              "choropleth": [
               {
                "colorbar": {
                 "outlinewidth": 0,
                 "ticks": ""
                },
                "type": "choropleth"
               }
              ],
              "contour": [
               {
                "colorbar": {
                 "outlinewidth": 0,
                 "ticks": ""
                },
                "colorscale": [
                 [
                  0.0,
                  "#0d0887"
                 ],
                 [
                  0.1111111111111111,
                  "#46039f"
                 ],
                 [
                  0.2222222222222222,
                  "#7201a8"
                 ],
                 [
                  0.3333333333333333,
                  "#9c179e"
                 ],
                 [
                  0.4444444444444444,
                  "#bd3786"
                 ],
                 [
                  0.5555555555555556,
                  "#d8576b"
                 ],
                 [
                  0.6666666666666666,
                  "#ed7953"
                 ],
                 [
                  0.7777777777777778,
                  "#fb9f3a"
                 ],
                 [
                  0.8888888888888888,
                  "#fdca26"
                 ],
                 [
                  1.0,
                  "#f0f921"
                 ]
                ],
                "type": "contour"
               }
              ],
              "contourcarpet": [
               {
                "colorbar": {
                 "outlinewidth": 0,
                 "ticks": ""
                },
                "type": "contourcarpet"
               }
              ],
              "heatmap": [
               {
                "colorbar": {
                 "outlinewidth": 0,
                 "ticks": ""
                },
                "colorscale": [
                 [
                  0.0,
                  "#0d0887"
                 ],
                 [
                  0.1111111111111111,
                  "#46039f"
                 ],
                 [
                  0.2222222222222222,
                  "#7201a8"
                 ],
                 [
                  0.3333333333333333,
                  "#9c179e"
                 ],
                 [
                  0.4444444444444444,
                  "#bd3786"
                 ],
                 [
                  0.5555555555555556,
                  "#d8576b"
                 ],
                 [
                  0.6666666666666666,
                  "#ed7953"
                 ],
                 [
                  0.7777777777777778,
                  "#fb9f3a"
                 ],
                 [
                  0.8888888888888888,
                  "#fdca26"
                 ],
                 [
                  1.0,
                  "#f0f921"
                 ]
                ],
                "type": "heatmap"
               }
              ],
              "histogram": [
               {
                "marker": {
                 "pattern": {
                  "fillmode": "overlay",
                  "size": 10,
                  "solidity": 0.2
                 }
                },
                "type": "histogram"
               }
              ],
              "histogram2d": [
               {
                "colorbar": {
                 "outlinewidth": 0,
                 "ticks": ""
                },
                "colorscale": [
                 [
                  0.0,
                  "#0d0887"
                 ],
                 [
                  0.1111111111111111,
                  "#46039f"
                 ],
                 [
                  0.2222222222222222,
                  "#7201a8"
                 ],
                 [
                  0.3333333333333333,
                  "#9c179e"
                 ],
                 [
                  0.4444444444444444,
                  "#bd3786"
                 ],
                 [
                  0.5555555555555556,
                  "#d8576b"
                 ],
                 [
                  0.6666666666666666,
                  "#ed7953"
                 ],
                 [
                  0.7777777777777778,
                  "#fb9f3a"
                 ],
                 [
                  0.8888888888888888,
                  "#fdca26"
                 ],
                 [
                  1.0,
                  "#f0f921"
                 ]
                ],
                "type": "histogram2d"
               }
              ],
              "histogram2dcontour": [
               {
                "colorbar": {
                 "outlinewidth": 0,
                 "ticks": ""
                },
                "colorscale": [
                 [
                  0.0,
                  "#0d0887"
                 ],
                 [
                  0.1111111111111111,
                  "#46039f"
                 ],
                 [
                  0.2222222222222222,
                  "#7201a8"
                 ],
                 [
                  0.3333333333333333,
                  "#9c179e"
                 ],
                 [
                  0.4444444444444444,
                  "#bd3786"
                 ],
                 [
                  0.5555555555555556,
                  "#d8576b"
                 ],
                 [
                  0.6666666666666666,
                  "#ed7953"
                 ],
                 [
                  0.7777777777777778,
                  "#fb9f3a"
                 ],
                 [
                  0.8888888888888888,
                  "#fdca26"
                 ],
                 [
                  1.0,
                  "#f0f921"
                 ]
                ],
                "type": "histogram2dcontour"
               }
              ],
              "mesh3d": [
               {
                "colorbar": {
                 "outlinewidth": 0,
                 "ticks": ""
                },
                "type": "mesh3d"
               }
              ],
              "parcoords": [
               {
                "line": {
                 "colorbar": {
                  "outlinewidth": 0,
                  "ticks": ""
                 }
                },
                "type": "parcoords"
               }
              ],
              "pie": [
               {
                "automargin": true,
                "type": "pie"
               }
              ],
              "scatter": [
               {
                "fillpattern": {
                 "fillmode": "overlay",
                 "size": 10,
                 "solidity": 0.2
                },
                "type": "scatter"
               }
              ],
              "scatter3d": [
               {
                "line": {
                 "colorbar": {
                  "outlinewidth": 0,
                  "ticks": ""
                 }
                },
                "marker": {
                 "colorbar": {
                  "outlinewidth": 0,
                  "ticks": ""
                 }
                },
                "type": "scatter3d"
               }
              ],
              "scattercarpet": [
               {
                "marker": {
                 "colorbar": {
                  "outlinewidth": 0,
                  "ticks": ""
                 }
                },
                "type": "scattercarpet"
               }
              ],
              "scattergeo": [
               {
                "marker": {
                 "colorbar": {
                  "outlinewidth": 0,
                  "ticks": ""
                 }
                },
                "type": "scattergeo"
               }
              ],
              "scattergl": [
               {
                "marker": {
                 "colorbar": {
                  "outlinewidth": 0,
                  "ticks": ""
                 }
                },
                "type": "scattergl"
               }
              ],
              "scattermap": [
               {
                "marker": {
                 "colorbar": {
                  "outlinewidth": 0,
                  "ticks": ""
                 }
                },
                "type": "scattermap"
               }
              ],
              "scattermapbox": [
               {
                "marker": {
                 "colorbar": {
                  "outlinewidth": 0,
                  "ticks": ""
                 }
                },
                "type": "scattermapbox"
               }
              ],
              "scatterpolar": [
               {
                "marker": {
                 "colorbar": {
                  "outlinewidth": 0,
                  "ticks": ""
                 }
                },
                "type": "scatterpolar"
               }
              ],
              "scatterpolargl": [
               {
                "marker": {
                 "colorbar": {
                  "outlinewidth": 0,
                  "ticks": ""
                 }
                },
                "type": "scatterpolargl"
               }
              ],
              "scatterternary": [
               {
                "marker": {
                 "colorbar": {
                  "outlinewidth": 0,
                  "ticks": ""
                 }
                },
                "type": "scatterternary"
               }
              ],
              "surface": [
               {
                "colorbar": {
                 "outlinewidth": 0,
                 "ticks": ""
                },
                "colorscale": [
                 [
                  0.0,
                  "#0d0887"
                 ],
                 [
                  0.1111111111111111,
                  "#46039f"
                 ],
                 [
                  0.2222222222222222,
                  "#7201a8"
                 ],
                 [
                  0.3333333333333333,
                  "#9c179e"
                 ],
                 [
                  0.4444444444444444,
                  "#bd3786"
                 ],
                 [
                  0.5555555555555556,
                  "#d8576b"
                 ],
                 [
                  0.6666666666666666,
                  "#ed7953"
                 ],
                 [
                  0.7777777777777778,
                  "#fb9f3a"
                 ],
                 [
                  0.8888888888888888,
                  "#fdca26"
                 ],
                 [
                  1.0,
                  "#f0f921"
                 ]
                ],
                "type": "surface"
               }
              ],
              "table": [
               {
                "cells": {
                 "fill": {
                  "color": "#EBF0F8"
                 },
                 "line": {
                  "color": "white"
                 }
                },
                "header": {
                 "fill": {
                  "color": "#C8D4E3"
                 },
                 "line": {
                  "color": "white"
                 }
                },
                "type": "table"
               }
              ]
             },
             "layout": {
              "annotationdefaults": {
               "arrowcolor": "#2a3f5f",
               "arrowhead": 0,
               "arrowwidth": 1
              },
              "autotypenumbers": "strict",
              "coloraxis": {
               "colorbar": {
                "outlinewidth": 0,
                "ticks": ""
               }
              },
              "colorscale": {
               "diverging": [
                [
                 0,
                 "#8e0152"
                ],
                [
                 0.1,
                 "#c51b7d"
                ],
                [
                 0.2,
                 "#de77ae"
                ],
                [
                 0.3,
                 "#f1b6da"
                ],
                [
                 0.4,
                 "#fde0ef"
                ],
                [
                 0.5,
                 "#f7f7f7"
                ],
                [
                 0.6,
                 "#e6f5d0"
                ],
                [
                 0.7,
                 "#b8e186"
                ],
                [
                 0.8,
                 "#7fbc41"
                ],
                [
                 0.9,
                 "#4d9221"
                ],
                [
                 1,
                 "#276419"
                ]
               ],
               "sequential": [
                [
                 0.0,
                 "#0d0887"
                ],
                [
                 0.1111111111111111,
                 "#46039f"
                ],
                [
                 0.2222222222222222,
                 "#7201a8"
                ],
                [
                 0.3333333333333333,
                 "#9c179e"
                ],
                [
                 0.4444444444444444,
                 "#bd3786"
                ],
                [
                 0.5555555555555556,
                 "#d8576b"
                ],
                [
                 0.6666666666666666,
                 "#ed7953"
                ],
                [
                 0.7777777777777778,
                 "#fb9f3a"
                ],
                [
                 0.8888888888888888,
                 "#fdca26"
                ],
                [
                 1.0,
                 "#f0f921"
                ]
               ],
               "sequentialminus": [
                [
                 0.0,
                 "#0d0887"
                ],
                [
                 0.1111111111111111,
                 "#46039f"
                ],
                [
                 0.2222222222222222,
                 "#7201a8"
                ],
                [
                 0.3333333333333333,
                 "#9c179e"
                ],
                [
                 0.4444444444444444,
                 "#bd3786"
                ],
                [
                 0.5555555555555556,
                 "#d8576b"
                ],
                [
                 0.6666666666666666,
                 "#ed7953"
                ],
                [
                 0.7777777777777778,
                 "#fb9f3a"
                ],
                [
                 0.8888888888888888,
                 "#fdca26"
                ],
                [
                 1.0,
                 "#f0f921"
                ]
               ]
              },
              "colorway": [
               "#636efa",
               "#EF553B",
               "#00cc96",
               "#ab63fa",
               "#FFA15A",
               "#19d3f3",
               "#FF6692",
               "#B6E880",
               "#FF97FF",
               "#FECB52"
              ],
              "font": {
               "color": "#2a3f5f"
              },
              "geo": {
               "bgcolor": "white",
               "lakecolor": "white",
               "landcolor": "#E5ECF6",
               "showlakes": true,
               "showland": true,
               "subunitcolor": "white"
              },
              "hoverlabel": {
               "align": "left"
              },
              "hovermode": "closest",
              "mapbox": {
               "style": "light"
              },
              "paper_bgcolor": "white",
              "plot_bgcolor": "#E5ECF6",
              "polar": {
               "angularaxis": {
                "gridcolor": "white",
                "linecolor": "white",
                "ticks": ""
               },
               "bgcolor": "#E5ECF6",
               "radialaxis": {
                "gridcolor": "white",
                "linecolor": "white",
                "ticks": ""
               }
              },
              "scene": {
               "xaxis": {
                "backgroundcolor": "#E5ECF6",
                "gridcolor": "white",
                "gridwidth": 2,
                "linecolor": "white",
                "showbackground": true,
                "ticks": "",
                "zerolinecolor": "white"
               },
               "yaxis": {
                "backgroundcolor": "#E5ECF6",
                "gridcolor": "white",
                "gridwidth": 2,
                "linecolor": "white",
                "showbackground": true,
                "ticks": "",
                "zerolinecolor": "white"
               },
               "zaxis": {
                "backgroundcolor": "#E5ECF6",
                "gridcolor": "white",
                "gridwidth": 2,
                "linecolor": "white",
                "showbackground": true,
                "ticks": "",
                "zerolinecolor": "white"
               }
              },
              "shapedefaults": {
               "line": {
                "color": "#2a3f5f"
               }
              },
              "ternary": {
               "aaxis": {
                "gridcolor": "white",
                "linecolor": "white",
                "ticks": ""
               },
               "baxis": {
                "gridcolor": "white",
                "linecolor": "white",
                "ticks": ""
               },
               "bgcolor": "#E5ECF6",
               "caxis": {
                "gridcolor": "white",
                "linecolor": "white",
                "ticks": ""
               }
              },
              "title": {
               "x": 0.05
              },
              "xaxis": {
               "automargin": true,
               "gridcolor": "white",
               "linecolor": "white",
               "ticks": "",
               "title": {
                "standoff": 15
               },
               "zerolinecolor": "white",
               "zerolinewidth": 2
              },
              "yaxis": {
               "automargin": true,
               "gridcolor": "white",
               "linecolor": "white",
               "ticks": "",
               "title": {
                "standoff": 15
               },
               "zerolinecolor": "white",
               "zerolinewidth": 2
              }
             }
            },
            "title": {
             "text": "Mental Disorders – Both – Percent – 2015"
            },
            "width": 1100
           }
          }
         },
         "metadata": {},
         "output_type": "display_data"
        }
       ],
       "tabbable": null,
       "tooltip": null
      }
     },
     "0a65c58d9cf94624988d72ca8cf98261": {
      "model_module": "@jupyter-widgets/controls",
      "model_module_version": "2.0.0",
      "model_name": "HBoxModel",
      "state": {
       "_dom_classes": [],
       "_model_module": "@jupyter-widgets/controls",
       "_model_module_version": "2.0.0",
       "_model_name": "HBoxModel",
       "_view_count": null,
       "_view_module": "@jupyter-widgets/controls",
       "_view_module_version": "2.0.0",
       "_view_name": "HBoxView",
       "box_style": "",
       "children": [
        "IPY_MODEL_3597c081abfa48ce960ae3a15b9499cf",
        "IPY_MODEL_494cc740b2e14c44bd5d8bb5df34e662"
       ],
       "layout": "IPY_MODEL_887c72498ee048cfb91c17e0228e3b4a",
       "tabbable": null,
       "tooltip": null
      }
     },
     "3597c081abfa48ce960ae3a15b9499cf": {
      "model_module": "@jupyter-widgets/controls",
      "model_module_version": "2.0.0",
      "model_name": "DropdownModel",
      "state": {
       "_dom_classes": [],
       "_model_module": "@jupyter-widgets/controls",
       "_model_module_version": "2.0.0",
       "_model_name": "DropdownModel",
       "_options_labels": [
        "Both",
        "Female",
        "Male"
       ],
       "_view_count": null,
       "_view_module": "@jupyter-widgets/controls",
       "_view_module_version": "2.0.0",
       "_view_name": "DropdownView",
       "description": "Sex",
       "description_allow_html": false,
       "disabled": false,
       "index": 0,
       "layout": "IPY_MODEL_e315dc59576d4a139d53919eeb5e3c2f",
       "style": "IPY_MODEL_e7567d649d844e9086c0a4eb5aee8e39",
       "tabbable": null,
       "tooltip": null
      }
     },
     "494cc740b2e14c44bd5d8bb5df34e662": {
      "model_module": "@jupyter-widgets/controls",
      "model_module_version": "2.0.0",
      "model_name": "DropdownModel",
      "state": {
       "_dom_classes": [],
       "_model_module": "@jupyter-widgets/controls",
       "_model_module_version": "2.0.0",
       "_model_name": "DropdownModel",
       "_options_labels": [
        "Percent",
        "Rate"
       ],
       "_view_count": null,
       "_view_module": "@jupyter-widgets/controls",
       "_view_module_version": "2.0.0",
       "_view_name": "DropdownView",
       "description": "Metric",
       "description_allow_html": false,
       "disabled": false,
       "index": 0,
       "layout": "IPY_MODEL_01407f195fcb4ca0b1165e45b74b03b7",
       "style": "IPY_MODEL_6dd49449f0164e59a38ef77739200b7e",
       "tabbable": null,
       "tooltip": null
      }
     },
     "4f51d0752fa04fa58c663635292b07f1": {
      "model_module": "@jupyter-widgets/base",
      "model_module_version": "2.0.0",
      "model_name": "LayoutModel",
      "state": {
       "_model_module": "@jupyter-widgets/base",
       "_model_module_version": "2.0.0",
       "_model_name": "LayoutModel",
       "_view_count": null,
       "_view_module": "@jupyter-widgets/base",
       "_view_module_version": "2.0.0",
       "_view_name": "LayoutView",
       "align_content": null,
       "align_items": null,
       "align_self": null,
       "border_bottom": null,
       "border_left": null,
       "border_right": null,
       "border_top": null,
       "bottom": null,
       "display": null,
       "flex": null,
       "flex_flow": null,
       "grid_area": null,
       "grid_auto_columns": null,
       "grid_auto_flow": null,
       "grid_auto_rows": null,
       "grid_column": null,
       "grid_gap": null,
       "grid_row": null,
       "grid_template_areas": null,
       "grid_template_columns": null,
       "grid_template_rows": null,
       "height": null,
       "justify_content": null,
       "justify_items": null,
       "left": null,
       "margin": null,
       "max_height": null,
       "max_width": null,
       "min_height": null,
       "min_width": null,
       "object_fit": null,
       "object_position": null,
       "order": null,
       "overflow": null,
       "padding": null,
       "right": null,
       "top": null,
       "visibility": null,
       "width": null
      }
     },
     "6dd49449f0164e59a38ef77739200b7e": {
      "model_module": "@jupyter-widgets/controls",
      "model_module_version": "2.0.0",
      "model_name": "DescriptionStyleModel",
      "state": {
       "_model_module": "@jupyter-widgets/controls",
       "_model_module_version": "2.0.0",
       "_model_name": "DescriptionStyleModel",
       "_view_count": null,
       "_view_module": "@jupyter-widgets/base",
       "_view_module_version": "2.0.0",
       "_view_name": "StyleView",
       "description_width": ""
      }
     },
     "6eb8d218c1d749a38632184c74bfa74f": {
      "model_module": "@jupyter-widgets/controls",
      "model_module_version": "2.0.0",
      "model_name": "SelectionSliderModel",
      "state": {
       "_dom_classes": [],
       "_model_module": "@jupyter-widgets/controls",
       "_model_module_version": "2.0.0",
       "_model_name": "SelectionSliderModel",
       "_options_labels": [
        "2015",
        "2016",
        "2017",
        "2018",
        "2019",
        "2020",
        "2021"
       ],
       "_view_count": null,
       "_view_module": "@jupyter-widgets/controls",
       "_view_module_version": "2.0.0",
       "_view_name": "SelectionSliderView",
       "behavior": "drag-tap",
       "continuous_update": false,
       "description": "Jaar",
       "description_allow_html": false,
       "disabled": false,
       "index": 0,
       "layout": "IPY_MODEL_96d11d020617409d89e358f3eb0f1514",
       "orientation": "horizontal",
       "readout": true,
       "style": "IPY_MODEL_f384bee913af496ca8fa6f3ee30844cb",
       "tabbable": null,
       "tooltip": null
      }
     },
     "73dfd6cb07094326a876fd25369d5ebc": {
      "model_module": "@jupyter-widgets/controls",
      "model_module_version": "2.0.0",
      "model_name": "VBoxModel",
      "state": {
       "_dom_classes": [
        "vbox"
       ],
       "_model_module": "@jupyter-widgets/controls",
       "_model_module_version": "2.0.0",
       "_model_name": "VBoxModel",
       "_view_count": null,
       "_view_module": "@jupyter-widgets/controls",
       "_view_module_version": "2.0.0",
       "_view_name": "VBoxView",
       "box_style": "",
       "children": [
        "IPY_MODEL_0a65c58d9cf94624988d72ca8cf98261",
        "IPY_MODEL_6eb8d218c1d749a38632184c74bfa74f"
       ],
       "layout": "IPY_MODEL_e26b43f75eb04d6781abe64bec01ba9d",
       "tabbable": null,
       "tooltip": null
      }
     },
     "887c72498ee048cfb91c17e0228e3b4a": {
      "model_module": "@jupyter-widgets/base",
      "model_module_version": "2.0.0",
      "model_name": "LayoutModel",
      "state": {
       "_model_module": "@jupyter-widgets/base",
       "_model_module_version": "2.0.0",
       "_model_name": "LayoutModel",
       "_view_count": null,
       "_view_module": "@jupyter-widgets/base",
       "_view_module_version": "2.0.0",
       "_view_name": "LayoutView",
       "align_content": null,
       "align_items": null,
       "align_self": null,
       "border_bottom": null,
       "border_left": null,
       "border_right": null,
       "border_top": null,
       "bottom": null,
       "display": null,
       "flex": null,
       "flex_flow": null,
       "grid_area": null,
       "grid_auto_columns": null,
       "grid_auto_flow": null,
       "grid_auto_rows": null,
       "grid_column": null,
       "grid_gap": null,
       "grid_row": null,
       "grid_template_areas": null,
       "grid_template_columns": null,
       "grid_template_rows": null,
       "height": null,
       "justify_content": null,
       "justify_items": null,
       "left": null,
       "margin": null,
       "max_height": null,
       "max_width": null,
       "min_height": null,
       "min_width": null,
       "object_fit": null,
       "object_position": null,
       "order": null,
       "overflow": null,
       "padding": null,
       "right": null,
       "top": null,
       "visibility": null,
       "width": null
      }
     },
     "96d11d020617409d89e358f3eb0f1514": {
      "model_module": "@jupyter-widgets/base",
      "model_module_version": "2.0.0",
      "model_name": "LayoutModel",
      "state": {
       "_model_module": "@jupyter-widgets/base",
       "_model_module_version": "2.0.0",
       "_model_name": "LayoutModel",
       "_view_count": null,
       "_view_module": "@jupyter-widgets/base",
       "_view_module_version": "2.0.0",
       "_view_name": "LayoutView",
       "align_content": null,
       "align_items": null,
       "align_self": null,
       "border_bottom": null,
       "border_left": null,
       "border_right": null,
       "border_top": null,
       "bottom": null,
       "display": null,
       "flex": null,
       "flex_flow": null,
       "grid_area": null,
       "grid_auto_columns": null,
       "grid_auto_flow": null,
       "grid_auto_rows": null,
       "grid_column": null,
       "grid_gap": null,
       "grid_row": null,
       "grid_template_areas": null,
       "grid_template_columns": null,
       "grid_template_rows": null,
       "height": null,
       "justify_content": null,
       "justify_items": null,
       "left": null,
       "margin": null,
       "max_height": null,
       "max_width": null,
       "min_height": null,
       "min_width": null,
       "object_fit": null,
       "object_position": null,
       "order": null,
       "overflow": null,
       "padding": null,
       "right": null,
       "top": null,
       "visibility": null,
       "width": "100%"
      }
     },
     "e26b43f75eb04d6781abe64bec01ba9d": {
      "model_module": "@jupyter-widgets/base",
      "model_module_version": "2.0.0",
      "model_name": "LayoutModel",
      "state": {
       "_model_module": "@jupyter-widgets/base",
       "_model_module_version": "2.0.0",
       "_model_name": "LayoutModel",
       "_view_count": null,
       "_view_module": "@jupyter-widgets/base",
       "_view_module_version": "2.0.0",
       "_view_name": "LayoutView",
       "align_content": null,
       "align_items": null,
       "align_self": null,
       "border_bottom": null,
       "border_left": null,
       "border_right": null,
       "border_top": null,
       "bottom": null,
       "display": null,
       "flex": null,
       "flex_flow": null,
       "grid_area": null,
       "grid_auto_columns": null,
       "grid_auto_flow": null,
       "grid_auto_rows": null,
       "grid_column": null,
       "grid_gap": null,
       "grid_row": null,
       "grid_template_areas": null,
       "grid_template_columns": null,
       "grid_template_rows": null,
       "height": null,
       "justify_content": null,
       "justify_items": null,
       "left": null,
       "margin": null,
       "max_height": null,
       "max_width": null,
       "min_height": null,
       "min_width": null,
       "object_fit": null,
       "object_position": null,
       "order": null,
       "overflow": null,
       "padding": null,
       "right": null,
       "top": null,
       "visibility": null,
       "width": "1000px"
      }
     },
     "e315dc59576d4a139d53919eeb5e3c2f": {
      "model_module": "@jupyter-widgets/base",
      "model_module_version": "2.0.0",
      "model_name": "LayoutModel",
      "state": {
       "_model_module": "@jupyter-widgets/base",
       "_model_module_version": "2.0.0",
       "_model_name": "LayoutModel",
       "_view_count": null,
       "_view_module": "@jupyter-widgets/base",
       "_view_module_version": "2.0.0",
       "_view_name": "LayoutView",
       "align_content": null,
       "align_items": null,
       "align_self": null,
       "border_bottom": null,
       "border_left": null,
       "border_right": null,
       "border_top": null,
       "bottom": null,
       "display": null,
       "flex": null,
       "flex_flow": null,
       "grid_area": null,
       "grid_auto_columns": null,
       "grid_auto_flow": null,
       "grid_auto_rows": null,
       "grid_column": null,
       "grid_gap": null,
       "grid_row": null,
       "grid_template_areas": null,
       "grid_template_columns": null,
       "grid_template_rows": null,
       "height": null,
       "justify_content": null,
       "justify_items": null,
       "left": null,
       "margin": null,
       "max_height": null,
       "max_width": null,
       "min_height": null,
       "min_width": null,
       "object_fit": null,
       "object_position": null,
       "order": null,
       "overflow": null,
       "padding": null,
       "right": null,
       "top": null,
       "visibility": null,
       "width": "200px"
      }
     },
     "e7567d649d844e9086c0a4eb5aee8e39": {
      "model_module": "@jupyter-widgets/controls",
      "model_module_version": "2.0.0",
      "model_name": "DescriptionStyleModel",
      "state": {
       "_model_module": "@jupyter-widgets/controls",
       "_model_module_version": "2.0.0",
       "_model_name": "DescriptionStyleModel",
       "_view_count": null,
       "_view_module": "@jupyter-widgets/base",
       "_view_module_version": "2.0.0",
       "_view_name": "StyleView",
       "description_width": ""
      }
     },
     "f384bee913af496ca8fa6f3ee30844cb": {
      "model_module": "@jupyter-widgets/controls",
      "model_module_version": "2.0.0",
      "model_name": "SliderStyleModel",
      "state": {
       "_model_module": "@jupyter-widgets/controls",
       "_model_module_version": "2.0.0",
       "_model_name": "SliderStyleModel",
       "_view_count": null,
       "_view_module": "@jupyter-widgets/base",
       "_view_module_version": "2.0.0",
       "_view_name": "StyleView",
       "description_width": "",
       "handle_color": null
      }
     }
    },
    "version_major": 2,
    "version_minor": 0
   }
  }
 },
 "nbformat": 4,
 "nbformat_minor": 5
}